{
 "metadata": {
  "css": [
   "*{ font-weight: bold;}"
  ],
  "name": ""
 },
 "nbformat": 3,
 "nbformat_minor": 0,
 "worksheets": [
  {
   "cells": [
    {
     "cell_type": "markdown",
     "metadata": {},
     "source": [
      "# Scikit-Learn: Machine Learning in the Python ecosystem\n",
      "\n"
     ]
    },
    {
     "cell_type": "markdown",
     "metadata": {},
     "source": [
      "<center>\n",
      "<img src=\"files/sklearn-logo.png\" /><br />\n",
      "MLOSS workshop - NIPS 2013<br />\n",
      "December 10, 2013<br />\n",
      "<br />\n",
      "Gilles Louppe ([@glouppe](https://twitter.com/glouppe))<br />\n",
      "<br />\n",
      "<small><em>(with Ga\u00ebl Varoquaux ([@GaelVaroquaux](https://twitter.com/GaelVaroquaux)) <br />and Andreas M\u00fcller ([@t3kcit](https://twitter.com/t3kcit)) as backups)</em></small>\n",
      "</center>"
     ]
    },
    {
     "cell_type": "markdown",
     "metadata": {},
     "source": [
      "## Scikit-Learn\n",
      "\n",
      "* Machine learning library written in __Python__\n",
      "* __Simple and efficient__, for both experts and non-experts\n",
      "* Classical, __well-established machine learning algorithms__\n",
      "    - Supervised and unsupervised algorithms\n",
      "    - Model selection and model evaluation\n",
      "    - Data preprocessing and feature engineering\n",
      "* __BSD 3 license__"
     ]
    },
    {
     "cell_type": "markdown",
     "metadata": {},
     "source": [
      "## Collaborative development\n",
      "\n",
      "- 10~ core developers (mostly researchers)\n",
      "- 100+ occasional contributors\n",
      "- __All working together__ on [GitHub](https://github.com/scikit-learn/scikit-learn)\n",
      "- Emphasis on __keeping the project maintainable__\n",
      "    - Style consistency\n",
      "    - Unit-test coverage\n",
      "    - Documentation and examples\n",
      "    - Code review"
     ]
    },
    {
     "cell_type": "markdown",
     "metadata": {},
     "source": [
      "## A simple and unified API\n",
      "\n",
      "All objects in scikit-learn share a uniform and limited API consisting of three complementary interfaces:\n",
      "\n",
      "- an `estimator` interface for building and fitting models;\n",
      "- a `predictor` interface for making predictions;\n",
      "- a `transformer` interface for converting data.\n",
      "\n",
      "Consistency across the package makes scikit-learn very usable in practice. Experimenting with different learning algorithms is as simple as changing a class definition."
     ]
    },
    {
     "cell_type": "code",
     "collapsed": false,
     "input": [
      "from sklearn.cross_validation import cross_val_score\n",
      "from sklearn.datasets import load_iris\n",
      "from sklearn.tree import DecisionTreeClassifier # Change this\n",
      "\n",
      "data = load_iris()\n",
      "X, y = data.data, data.target\n",
      "\n",
      "clf = DecisionTreeClassifier() # and that\n",
      "\n",
      "print \"Accuracy =\", cross_val_score(clf, X, y, cv=3).mean()"
     ],
     "language": "python",
     "metadata": {},
     "outputs": []
    },
    {
     "cell_type": "markdown",
     "metadata": {},
     "source": [
      "Through composition interfaces (e.g., `Pipeline` and `FeatureUnion`), the library also offers powerful mechanisms to express a wide variety of learning tasks within a small amount of code.\n",
      "\n",
      "Through duck-typing, the consistent API leads to a library that is easily extensible. It allows user-defined estimators to be easily incorporated into the Scikit-Learn workflow without any explicit object inheritance."
     ]
    },
    {
     "cell_type": "markdown",
     "metadata": {},
     "source": [
      "## Integration in the scientific Python ecosystem\n",
      "\n",
      "- The Python ecosystem provides __a standalone, versatile and powerful scientific working environment__, including:\n",
      "     - [NumPy](http://numpy.org) (for efficient manipulation of multi-dimensional arrays);\n",
      "     - [SciPy](http://scipy.org) (for specialized data structures (e.g., sparse matrices) and lower-level scientific algorithms), \n",
      "     - [IPython](http://ipython.org) (for interactive exploration),\n",
      "     - [Matplotlib](http://matplotlib.org) (for vizualization) \n",
      "     - [Pandas](http://pandas.pydata.org/) (for data management and data analysis) \n",
      "- Scikit-Learn builds upon NumPy and SciPy and __complements__ this scientific environment with machine learning algorithms routines;\n",
      "- By design, Scikit-Learn is non-intrusive, easy to use and easy to combine with other libraries.\n"
     ]
    },
    {
     "cell_type": "markdown",
     "metadata": {},
     "source": [
      "## End-to-end proof of concept\n",
      "\n",
      "Let us illustrate the various components of the scientific Python ecosystem for the analysis of scientific data. \n",
      "\n",
      "We consider genetic data from the [HapMap project](http://hapmap.ncbi.nlm.nih.gov/) which catalogs common genetic variants in human beings from different populations in different parts of the world. \n",
      "\n",
      "> _Genetics 101._ The DNA in our cells are made of long chains of 4 chemical building blocks (adenine, thymine, cytosine, and guanine) which are strung together in 23 pairs of chromosomes. These genetic sequences contain information that influences our physical traits, our likelihood of suffering from disease, or the responses of our bodies to substances that we encounter in the environment.\n",
      "\n",
      "> The genetic sequences of different people are remarkably similar. When the chromosomes of two humans are compared, their DNA sequences can be identical for hundreds of bases. But at about one in every 1,200 bases, on average, the sequences differ. These genetic differences are known as single nucleotide polymorphisms (_SNPs_). By identifying most of the approximately 10 million SNPs estimated to occur commonly in the human genome, the HapMap Project is identifying the basis for a large fraction of the genetic diversity in the human species.\n",
      "\n",
      "<center>\n",
      "<img src=\"files/snp.png\" /><br />\n",
      "<em>DNA sequences 1 and 2 are similar to each other,<br /> \n",
      "except at some specific locations called _SNPs_.</em>\n",
      "</center><br />\n",
      "\n",
      "The HapMap data includes genotypes for 1417 individuals, from 11 human populations from different parts of the world (e.g., Europe, Africa, Asia; see [Appendix A](#appendix-populations)). It regroups genotypes for all SNPs (from all 23 chromosomes) reported by the HapMap genotyping centers. From a data management point of view, the HashMap data comes with many of the hurdles of real-world data:\n",
      "\n",
      "- It is scattered in a large collection of genotype data files (one per chromosome/population);\n",
      "- It is large (1417 individuals, millions of SNPs; GBs of data);\n",
      "- SNPs are not all reported for all populations;\n",
      "- Genotypes are sometimes missing;\n",
      "- Values are heterogeneous (numbers, strings, symbols). "
     ]
    },
    {
     "cell_type": "markdown",
     "metadata": {},
     "source": [
      "### a) Setting up the `IPython` session\n",
      "\n",
      "IPython provides an __interactive web-based working environment__ combining code execution, text, plots and media into a single document. We will explore and analyze the HapMap data directly from this IPython session. \n",
      "\n",
      "For a smoother integration of the Python ecosystem, IPython provides shortcuts for loading NumPy and Matplotlib and working interactively."
     ]
    },
    {
     "cell_type": "code",
     "collapsed": false,
     "input": [
      "# Load NumPy and Matplotlib\n",
      "%pylab --no-import-all inline "
     ],
     "language": "python",
     "metadata": {},
     "outputs": [
      {
       "output_type": "stream",
       "stream": "stdout",
       "text": [
        "Populating the interactive namespace from numpy and matplotlib\n"
       ]
      }
     ],
     "prompt_number": 3
    },
    {
     "cell_type": "markdown",
     "metadata": {},
     "source": [
      "### b) Downloading the data \n",
      "\n",
      "Besides Python code, IPython also allows for the execution of arbitrary `bash` commands, which extends the Python ecosystem with all tools available from the command line. We exploit this functionality to download and have a first look at the data."
     ]
    },
    {
     "cell_type": "code",
     "collapsed": false,
     "input": [
      "# Load the data from chromosome 15\n",
      "!mkdir -p data\n",
      "!wget -P data http://hapmap.ncbi.nlm.nih.gov/downloads/genotypes/2010-08_phaseII+III/forward/genotypes_chr15_ASW_r28_nr.b36_fwd.txt.gz\n",
      "!wget -P data http://hapmap.ncbi.nlm.nih.gov/downloads/genotypes/2010-08_phaseII+III/forward/genotypes_chr15_CEU_r28_nr.b36_fwd.txt.gz\n",
      "!wget -P data http://hapmap.ncbi.nlm.nih.gov/downloads/genotypes/2010-08_phaseII+III/forward/genotypes_chr15_CHB_r28_nr.b36_fwd.txt.gz\n",
      "!wget -P data http://hapmap.ncbi.nlm.nih.gov/downloads/genotypes/2010-08_phaseII+III/forward/genotypes_chr15_CHD_r28_nr.b36_fwd.txt.gz\n",
      "!wget -P data http://hapmap.ncbi.nlm.nih.gov/downloads/genotypes/2010-08_phaseII+III/forward/genotypes_chr15_GIH_r28_nr.b36_fwd.txt.gz\n",
      "!wget -P data http://hapmap.ncbi.nlm.nih.gov/downloads/genotypes/2010-08_phaseII+III/forward/genotypes_chr15_JPT_r28_nr.b36_fwd.txt.gz\n",
      "!wget -P data http://hapmap.ncbi.nlm.nih.gov/downloads/genotypes/2010-08_phaseII+III/forward/genotypes_chr15_LWK_r28_nr.b36_fwd.txt.gz\n",
      "!wget -P data http://hapmap.ncbi.nlm.nih.gov/downloads/genotypes/2010-08_phaseII+III/forward/genotypes_chr15_MEX_r28_nr.b36_fwd.txt.gz\n",
      "!wget -P data http://hapmap.ncbi.nlm.nih.gov/downloads/genotypes/2010-08_phaseII+III/forward/genotypes_chr15_MKK_r28_nr.b36_fwd.txt.gz\n",
      "!wget -P data http://hapmap.ncbi.nlm.nih.gov/downloads/genotypes/2010-08_phaseII+III/forward/genotypes_chr15_TSI_r28_nr.b36_fwd.txt.gz\n",
      "!wget -P data http://hapmap.ncbi.nlm.nih.gov/downloads/genotypes/2010-08_phaseII+III/forward/genotypes_chr15_YRI_r28_nr.b36_fwd.txt.gz\n",
      "!for f in data/*.gz; do gunzip $f; done"
     ],
     "language": "python",
     "metadata": {},
     "outputs": []
    },
    {
     "cell_type": "code",
     "collapsed": false,
     "input": [
      "# Look at the 3 first lines of the data\n",
      "!head -n 3 data/genotypes_chr15_ASW_r28_nr.b36_fwd.txt"
     ],
     "language": "python",
     "metadata": {},
     "outputs": [
      {
       "output_type": "stream",
       "stream": "stdout",
       "text": [
        "rs# alleles chrom pos strand assembly# center protLSID assayLSID panelLSID QCcode NA19625 NA19700 NA19701 NA19702 NA19703 NA19704 NA19705 NA19708 NA19712 NA19711 NA19818 NA19819 NA19828 NA19835 NA19834 NA19836 NA19902 NA19901 NA19900 NA19904 NA19919 NA19908 NA19909 NA19914 NA19915 NA19916 NA19917 NA19918 NA19921 NA20129 NA19713 NA19982 NA19983 NA19714 NA19985 NA19984 NA20128 NA20126 NA20127 NA20277 NA20276 NA20279 NA20282 NA20281 NA20284 NA20287 NA20288 NA20290 NA20289 NA20291 NA20292 NA20295 NA20294 NA20297 NA20300 NA20298 NA20301 NA20302 NA20317 NA20319 NA20322 NA20333 NA20332 NA20335 NA20334 NA20337 NA20336 NA20340 NA20341 NA20343 NA20342 NA20344 NA20345 NA20346 NA20347 NA20348 NA20349 NA20350 NA20351 NA20357 NA20356 NA20358 NA20359 NA20360 NA20363 NA20364 NA20412\r\n",
        "rs7494890 C/T chr15 18275409 + ncbi_b36 sanger urn:LSID:illumina.hapmap.org:Protocol:Human_1M_BeadChip:3 urn:LSID:sanger.hapmap.org:Assay:H1Mrs7494890:3 urn:lsid:dcc.hapmap.org:Panel:US_African-30-trios:4 QC+ TT TT TT TT TT TT TT TT TT CT TT CT CT TT CT TT TT TT TT TT TT TT TT TT TT CT TT CT CT CT TT TT TT TT TT TT TT TT TT TT TT TT TT CT TT TT TT TT TT TT TT TT TT TT TT TT CT CT TT TT TT TT TT TT TT TT TT TT TT TT TT TT TT TT TT TT TT TT TT TT TT TT CT CC TT TT TT\r\n",
        "rs12900938 C/T chr15 18294933 + ncbi_b36 sanger urn:LSID:illumina.hapmap.org:Protocol:Human_1M_BeadChip:3 urn:LSID:sanger.hapmap.org:Assay:H1Mrs12900938:3 urn:lsid:dcc.hapmap.org:Panel:US_African-30-trios:4 QC+ CT CT TT TT CT TT TT TT CT TT TT TT TT TT TT TT TT TT TT CT TT TT TT CT TT TT TT TT TT TT CT TT TT CT CT CT TT TT TT TT CT CT TT TT TT TT TT TT TT TT TT CC NN TT CT TT TT TT TT TT CT TT TT TT CT TT TT TT TT CT CT TT TT TT TT TT TT TT CT TT CT TT TT TT TT TT TT\r\n"
       ]
      }
     ],
     "prompt_number": 122
    },
    {
     "cell_type": "markdown",
     "metadata": {},
     "source": [
      "### c) Data preprocessing with `pandas` and `scikit-learn`\n",
      "\n",
      "Scikit-Learn expects input data to be represented as two-dimensional NumPy arrays of numerical values. In our case, the HapMap data is not represented in this way and needs to be preprocessed to conform to our standards.\n",
      "\n",
      "We rely on the `pandas` module for loading, converting and merging the datafiles into a single NumPy array. \n",
      "\n",
      "> The `pandas` module aims at providing fast, flexible and expressive data structures designed to make working with labeled or relational data both easy and intuitive. It is one of the most powerful and flexible Python packages for data manipulation. In particular, `pandas` integrates into the scientific Python ecosystem by providing NumPy-compatible data structures and tools for easily converting data from one format to another."
     ]
    },
    {
     "cell_type": "code",
     "collapsed": false,
     "input": [
      "import pandas as pd\n",
      "\n",
      "def load_genotypes(filename, population):\n",
      "    df = pd.read_csv(filename, sep=\" \", index_col=0)\n",
      "\n",
      "    # Map genotypes to 0-1-2 values\n",
      "    mask = df.alleles == 'A/C'\n",
      "    df[mask] = df[mask].replace(to_replace=['AA', 'AC', 'CC'], \n",
      "                                value=[0, 1, 2])\n",
      "    mask = df.alleles == 'A/G'\n",
      "    df[mask] = df[mask].replace(to_replace=['AA', 'AG', 'GG'], \n",
      "                                value=[0, 1, 2])\n",
      "    mask = df.alleles == 'A/T'\n",
      "    df[mask] = df[mask].replace(to_replace=['AA', 'AT', 'TT'], \n",
      "                                value=[0, 1, 2])\n",
      "    mask = df.alleles == 'C/G'\n",
      "    df[mask] = df[mask].replace(to_replace=['CC', 'CG', 'GG'], \n",
      "                                value=[0, 1, 2])\n",
      "    mask = df.alleles == 'C/T'\n",
      "    df[mask] = df[mask].replace(to_replace=['CC', 'CT', 'TT'], \n",
      "                                value=[0, 1, 2])\n",
      "    mask = df.alleles == 'G/T'\n",
      "    df[mask] = df[mask].replace(to_replace=['GG', 'GT', 'TT'], \n",
      "                                value=[0, 1, 2])\n",
      "    \n",
      "    # Replace missing value placeholders\n",
      "    df.replace(to_replace='NN', value=-1, inplace=True)\n",
      "\n",
      "    # Copy data into a new frame\n",
      "    individuals = df.columns[10:]\n",
      "    snps = df.index\n",
      "\n",
      "    new_df = pd.DataFrame(index=individuals)\n",
      "    new_df[\"population\"] = population\n",
      "    new_df[snps] = df[individuals].T\n",
      "    new_df = new_df.convert_objects()\n",
      "\n",
      "    # Drop SNPs corresponding to deletions/insertions\n",
      "    new_df = new_df.drop(new_df.columns[new_df.dtypes == \"object\"][1:], axis=1)\n",
      "\n",
      "    return new_df\n",
      "\n",
      "# Concatenate all files and only keep common SNPs\n",
      "populations = [\"ASW\", \"CEU\", \"CHB\", \"CHD\", \"GIH\", \"JPT\", \n",
      "               \"LWK\", \"MEX\", \"MKK\", \"TSI\", \"YRI\"]\n",
      "\n",
      "df = pd.concat([load_genotypes(\"genotypes_chr15_%s_r28_nr.b36_fwd.txt\" % population, \n",
      "                               population) for population in populations], \n",
      "               join=\"inner\")\n",
      "\n",
      "# Convert to Numpy arrays\n",
      "snps = df.columns[1:]\n",
      "X = df[snps].values.astype(np.int8)\n",
      "y = df[\"population\"].values.astype(np.str)\n",
      "\n",
      "# Save for later\n",
      "np.savez(\"data/chr15-all-numpy.npz\", X=X, y=y, snps=snps)\n",
      "\n",
      "# Warning! This takes long..."
     ],
     "language": "python",
     "metadata": {},
     "outputs": []
    },
    {
     "cell_type": "code",
     "collapsed": false,
     "input": [
      "# To save time, let us load the binary files generated above\n",
      "data = np.load(\"data/chr15-all-numpy.npz\")\n",
      "snps = data[\"snps\"]\n",
      "X = data[\"X\"]\n",
      "y = data[\"y\"]"
     ],
     "language": "python",
     "metadata": {},
     "outputs": [],
     "prompt_number": 4
    },
    {
     "cell_type": "code",
     "collapsed": false,
     "input": [
      "print \"SNPs =\", snps[:10]\n",
      "print \"X =\", X\n",
      "print \"X.shape =\", X.shape\n",
      "print \"y =\", y"
     ],
     "language": "python",
     "metadata": {},
     "outputs": [
      {
       "output_type": "stream",
       "stream": "stdout",
       "text": [
        "SNPs = Index([u'rs7494890', u'rs12900938', u'rs12905389', u'rs10163108', u'rs6599770', u'rs7171651', u'rs7170864', u'rs12440100', u'rs10152550', u'rs12906138'], dtype=object)\n",
        "X = [[2 1 2 ..., 1 1 1]\n",
        " [2 1 2 ..., 1 0 1]\n",
        " [2 2 2 ..., 2 1 2]\n",
        " ..., \n",
        " [1 2 1 ..., 1 0 1]\n",
        " [2 2 2 ..., 2 2 2]\n",
        " [1 2 1 ..., 2 1 2]]\n",
        "X.shape = (1417, 33800)\n",
        "y = ['ASW' 'ASW' 'ASW' ..., 'YRI' 'YRI' 'YRI']\n"
       ]
      }
     ],
     "prompt_number": 5
    },
    {
     "cell_type": "code",
     "collapsed": false,
     "input": [
      "# Limit to 2000 SNPs for faster interactions\n",
      "snps = snps[:2000]\n",
      "X = X[:, :2000]"
     ],
     "language": "python",
     "metadata": {},
     "outputs": [],
     "prompt_number": 6
    },
    {
     "cell_type": "markdown",
     "metadata": {},
     "source": [
      "Data is now converted to NumPy arrays. However, it still contains missing values (marked as `-1`) that need to be filled before being fed to Scikit-Learn estimators.\n",
      "\n",
      "As a last preprocessing step, we rely on tools from the `sklearn.preprocessing` submodule to replace missing values. \n",
      "\n",
      "> The `sklearn.preprocessing` includes some algorithms for encoding, normalizing or imputing data. All are offered as transformers."
     ]
    },
    {
     "cell_type": "code",
     "collapsed": false,
     "input": [
      "print \"Before imputation:\", np.unique(X)\n",
      "\n",
      "from sklearn.preprocessing import Imputer\n",
      "imputer = Imputer(missing_values=-1, strategy=\"most_frequent\")\n",
      "X = imputer.fit_transform(X)\n",
      "\n",
      "print \"After imputation:\", np.unique(X)"
     ],
     "language": "python",
     "metadata": {},
     "outputs": [
      {
       "output_type": "stream",
       "stream": "stdout",
       "text": [
        "Before imputation: "
       ]
      },
      {
       "output_type": "stream",
       "stream": "stdout",
       "text": [
        "[-1  0  1  2]\n",
        "After imputation:"
       ]
      },
      {
       "output_type": "stream",
       "stream": "stdout",
       "text": [
        " [ 0.  1.  2.]\n"
       ]
      }
     ],
     "prompt_number": 7
    },
    {
     "cell_type": "markdown",
     "metadata": {},
     "source": [
      "### d) Visualize the data with `matplotlib` \n",
      "\n",
      "[TODO]: comments on matplotlib, PCA, etc"
     ]
    },
    {
     "cell_type": "code",
     "collapsed": false,
     "input": [
      "from sklearn.decomposition import RandomizedPCA\n",
      "Xp = RandomizedPCA(n_components=2).fit_transform(X)"
     ],
     "language": "python",
     "metadata": {},
     "outputs": [],
     "prompt_number": 8
    },
    {
     "cell_type": "code",
     "collapsed": false,
     "input": [
      "populations = np.unique(y)\n",
      "colors = plt.get_cmap(\"hsv\")\n",
      "\n",
      "for i, p in enumerate(populations):\n",
      "    mask = (y == p)\n",
      "    plt.scatter(Xp[mask, 0], Xp[mask, 1], \n",
      "                c=colors(1. * i / 11), label=p)\n",
      "    \n",
      "plt.legend()\n",
      "plt.show()"
     ],
     "language": "python",
     "metadata": {},
     "outputs": [
      {
       "metadata": {},
       "output_type": "display_data",
       "png": "[encoded data removed]",
       "text": [
        "<matplotlib.figure.Figure at 0xa6b006c>"
       ]
      }
     ],
     "prompt_number": 9
    },
    {
     "cell_type": "markdown",
     "metadata": {},
     "source": [
      "[TODO]: comments on clusters with respect to populations"
     ]
    },
    {
     "cell_type": "markdown",
     "metadata": {},
     "source": [
      "### e) Learn from the data with `sklearn`"
     ]
    },
    {
     "cell_type": "code",
     "collapsed": false,
     "input": [
      "from sklearn.cross_validation import train_test_split\n",
      "from sklearn.ensemble import RandomForestClassifier\n",
      "\n",
      "X_train, X_test, y_train, y_test = train_test_split(X, y)\n",
      "\n",
      "clf = RandomForestClassifier(n_estimators=1000, n_jobs=2)\n",
      "clf.fit(X_train, y_train)"
     ],
     "language": "python",
     "metadata": {},
     "outputs": [],
     "prompt_number": "*"
    },
    {
     "cell_type": "code",
     "collapsed": false,
     "input": [
      "clf.score(X_test, y_test)"
     ],
     "language": "python",
     "metadata": {},
     "outputs": [
      {
       "metadata": {},
       "output_type": "pyout",
       "prompt_number": 11,
       "text": [
        "0.6450704225352113"
       ]
      }
     ],
     "prompt_number": 11
    },
    {
     "cell_type": "code",
     "collapsed": false,
     "input": [
      "from sklearn.metrics import confusion_matrix\n",
      "\n",
      "cm = confusion_matrix(y_test, clf.predict(X_test), labels=populations)\n",
      "\n",
      "print \" \" * 4,\n",
      "for label in populations:\n",
      "    print \" %s\" % label,\n",
      "print\n",
      "\n",
      "for i, label1 in enumerate(populations):\n",
      "    print label1,\n",
      "    for j, label2 in enumerate(populations):\n",
      "        print \"%4d\" % cm[i, j],\n",
      "    print"
     ],
     "language": "python",
     "metadata": {},
     "outputs": [
      {
       "output_type": "stream",
       "stream": "stdout",
       "text": [
        "      ASW  CEU  CHB  CHD  JIH  JPT  LWK  MEX  MKK  TSI  YRI\n",
        "ASW    1    4    0    0    0    0    0    0    3    0   11\n",
        "CEU    0   42    0    0    0    0    0    1    0    0    1\n",
        "CHB    0    1   23    4    0    1    0    0    0    0    1\n",
        "CHD    0    0   14    8    0    1    0    0    0    0    0\n",
        "JIH    0    4    0    0   20    0    0    0    0    0    0\n",
        "JPT    0    0    8    5    0   19    0    0    0    0    0\n",
        "LWK    0    0    0    0    0    0    2    0   12    0   18\n",
        "MEX    0    8    0    0    0    0    0   16    0    0    0\n",
        "MKK    0    0    0    0    0    0    0    0   39    0    1\n",
        "TSI    0   27    0    0    0    0    0    0    0    2    0\n",
        "YRI    0    0    0    0    0    0    0    0    1    0   57\n"
       ]
      }
     ],
     "prompt_number": 12
    },
    {
     "cell_type": "code",
     "collapsed": false,
     "input": [
      "importances = clf.feature_importances_\n",
      "\n",
      "# Plot importances\n",
      "plt.bar(range(len(snps)), importances)\n",
      "plt.show()\n",
      "\n",
      "# Top 10 SNPs\n",
      "indices = np.argsort(importances)[::-1]\n",
      "\n",
      "for i in range(10):\n",
      "    print snps[indices[i]], importances[indices[i]]"
     ],
     "language": "python",
     "metadata": {},
     "outputs": [
      {
       "ename": "NameError",
       "evalue": "name 'clf' is not defined",
       "output_type": "pyerr",
       "traceback": [
        "\u001b[1;31m---------------------------------------------------------------------------\u001b[0m\n\u001b[1;31mNameError\u001b[0m                                 Traceback (most recent call last)",
        "\u001b[1;32m<ipython-input-1-9716a10cebb6>\u001b[0m in \u001b[0;36m<module>\u001b[1;34m()\u001b[0m\n\u001b[1;32m----> 1\u001b[1;33m \u001b[0mimportances\u001b[0m \u001b[1;33m=\u001b[0m \u001b[0mclf\u001b[0m\u001b[1;33m.\u001b[0m\u001b[0mfeature_importances_\u001b[0m\u001b[1;33m\u001b[0m\u001b[0m\n\u001b[0m\u001b[0;32m      2\u001b[0m \u001b[1;33m\u001b[0m\u001b[0m\n\u001b[0;32m      3\u001b[0m \u001b[1;31m# Plot importances\u001b[0m\u001b[1;33m\u001b[0m\u001b[1;33m\u001b[0m\u001b[0m\n\u001b[0;32m      4\u001b[0m \u001b[0mplt\u001b[0m\u001b[1;33m.\u001b[0m\u001b[0mbar\u001b[0m\u001b[1;33m(\u001b[0m\u001b[0mrange\u001b[0m\u001b[1;33m(\u001b[0m\u001b[0mlen\u001b[0m\u001b[1;33m(\u001b[0m\u001b[0msnps\u001b[0m\u001b[1;33m)\u001b[0m\u001b[1;33m)\u001b[0m\u001b[1;33m,\u001b[0m \u001b[0mimportances\u001b[0m\u001b[1;33m)\u001b[0m\u001b[1;33m\u001b[0m\u001b[0m\n\u001b[0;32m      5\u001b[0m \u001b[0mplt\u001b[0m\u001b[1;33m.\u001b[0m\u001b[0mshow\u001b[0m\u001b[1;33m(\u001b[0m\u001b[1;33m)\u001b[0m\u001b[1;33m\u001b[0m\u001b[0m\n",
        "\u001b[1;31mNameError\u001b[0m: name 'clf' is not defined"
       ]
      }
     ],
     "prompt_number": 1
    },
    {
     "cell_type": "markdown",
     "metadata": {},
     "source": [
      "<a name=\"appendix-populations\"></a>\n",
      "## Appendix A: Populations from the HapMap data\n",
      "\n",
      "- ASW: African ancestry in Southwest USA\n",
      "- CEU: Utah residents with Northern and Western European ancestry from the CEPH collection\n",
      "- CHB: Han Chinese in Beijing, China\n",
      "- CHD: Chinese in Metropolitan Denver, Colorado\n",
      "- GIH: Gujarati Indians in Houston, Texas\n",
      "- JPT: Japanese in Tokyo, Japan\n",
      "- LWK: Luhya in Webuye, Kenya\n",
      "- MEX: Mexican ancestry in Los Angeles, California\n",
      "- MKK: Maasai in Kinyawa, Kenya\n",
      "- TSI: Tuscan in Italy\n",
      "- YRI: Yoruban in Ibadan, Nigeria (West Africa)"
     ]
    }
   ],
   "metadata": {}
  }
 ]
}
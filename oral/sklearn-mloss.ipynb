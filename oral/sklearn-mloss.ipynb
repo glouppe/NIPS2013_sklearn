{
 "metadata": {
  "css": [
   ""
  ],
  "name": ""
 },
 "nbformat": 3,
 "nbformat_minor": 0,
 "worksheets": [
  {
   "cells": [
    {
     "cell_type": "markdown",
     "metadata": {},
     "source": [
      "# Scikit-Learn: Machine Learning in the Python ecosystem\n",
      "\n"
     ]
    },
    {
     "cell_type": "markdown",
     "metadata": {},
     "source": [
      "<center>\n",
      "<img src=\"files/sklearn-logo.png\" /><br />\n",
      "MLOSS workshop - NIPS 2013<br />\n",
      "December 10, 2013<br />\n",
      "<br />\n",
      "Gilles Louppe ([@glouppe](https://twitter.com/glouppe))\n",
      "</center>"
     ]
    },
    {
     "cell_type": "markdown",
     "metadata": {},
     "source": [
      "## Scikit-Learn\n",
      "\n",
      "* Machine learning library written in __Python__\n",
      "* __Simple and efficient__, for both experts and non-experts\n",
      "* Classical, __well-established machine learning algorithms__\n",
      "    - Supervised and unsupervised algorithms\n",
      "    - Model selection and model evaluation\n",
      "    - Data preprocessing and feature engineering\n",
      "* __BSD 3 license__"
     ]
    },
    {
     "cell_type": "markdown",
     "metadata": {},
     "source": [
      "## Collaborative development\n",
      "\n",
      "- 10~ core developers (mostly researchers)\n",
      "- 100+ occasional contributors\n",
      "- __All working together__ on [GitHub](http://www.github.com)\n",
      "- Emphasis on __keeping the project maintainable__\n",
      "    - Style consistency\n",
      "    - Unit-test coverage\n",
      "    - Documentation and examples\n",
      "    - Code review"
     ]
    },
    {
     "cell_type": "markdown",
     "metadata": {},
     "source": [
      "## Integration in the scientific Python ecosystem\n",
      "\n",
      "- Designed around standard open source tools of the scientific Python ecosystem:\n",
      "    - [NumPy](http://numpy.org): efficient manipulation of multi-dimensional arrays;\n",
      "    - [SciPy](http://scipy.org): specialized data structures (e.g., sparse matrices) and lower-level scientific algorithms.\n",
      "- Scikit-Learn is non-intrusive, easy to use and easy to combine with other libraries;\n",
      "- Together, NumPy, SciPy, [IPython](http://ipython.org) (for interactive exploration) and [Matplotlib](http://matplotlib.org) (for vizualization) form __a complete, versatile and efficient scientific working environment__ that Scikit-Learn complements  with machine learning algorithms and data analysis routines."
     ]
    },
    {
     "cell_type": "markdown",
     "metadata": {},
     "source": [
      "## End-to-end proof of concept\n",
      "\n",
      "Let us illustrate the use of the various components of the scientific Python ecosystem for the analysis of biological data."
     ]
    },
    {
     "cell_type": "raw",
     "metadata": {},
     "source": [
      "Plan\n",
      "----\n",
      "1. Chargement des donn\u00e9es avec Pandas? Conversion vers Numpy\n",
      "=> Souligner l'interop\u00e9rabilit\u00e9 de Scikit-Learn qui exploite des tableaux Numpy comme type de base\n",
      "2. Visualisation des donn\u00e9es (matplotlib)\n",
      "3. Tache d'apprentissage (foret) distribu\u00e9e et cross-valid\u00e9e avec IPython\n",
      "4. Analyse des importances + visualisation avec matplotlib"
     ]
    },
    {
     "cell_type": "code",
     "collapsed": false,
     "input": [],
     "language": "python",
     "metadata": {},
     "outputs": []
    }
   ],
   "metadata": {}
  }
 ]
}
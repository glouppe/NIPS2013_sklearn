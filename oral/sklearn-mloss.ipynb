{
 "metadata": {
  "css": [
   ""
  ],
  "name": ""
 },
 "nbformat": 3,
 "nbformat_minor": 0,
 "worksheets": [
  {
   "cells": [
    {
     "cell_type": "markdown",
     "metadata": {},
     "source": [
      "# Scikit-Learn: Machine Learning in the Python ecosystem\n",
      "\n"
     ]
    },
    {
     "cell_type": "markdown",
     "metadata": {},
     "source": [
      "<center>\n",
      "<img src=\"files/sklearn-logo.png\" /><br />\n",
      "MLOSS workshop - NIPS 2013<br />\n",
      "December 10, 2013<br />\n",
      "<br />\n",
      "Gilles Louppe ([@glouppe](https://twitter.com/glouppe))<br />\n",
      "<br />\n",
      "<small>(with Ga\u00ebl Varoquaux ([@GaelVaroquaux](https://twitter.com/GaelVaroquaux)) <br />and Andreas M\u00fcller ([@t3kcit](https://twitter.com/t3kcit)) as backups)</small>\n",
      "</center>"
     ]
    },
    {
     "cell_type": "markdown",
     "metadata": {},
     "source": [
      "## Scikit-Learn\n",
      "\n",
      "* Machine learning library written in __Python__\n",
      "* __Simple and efficient__, for both experts and non-experts\n",
      "* Classical, __well-established machine learning algorithms__\n",
      "    - Supervised and unsupervised algorithms\n",
      "    - Model selection and model evaluation\n",
      "    - Data preprocessing and feature engineering\n",
      "* __BSD 3 license__"
     ]
    },
    {
     "cell_type": "markdown",
     "metadata": {},
     "source": [
      "## Collaborative development\n",
      "\n",
      "- 10~ core developers (mostly researchers)\n",
      "- 100+ occasional contributors\n",
      "- __All working together__ on [GitHub](http://www.github.com)\n",
      "- Emphasis on __keeping the project maintainable__\n",
      "    - Style consistency\n",
      "    - Unit-test coverage\n",
      "    - Documentation and examples\n",
      "    - Code review"
     ]
    },
    {
     "cell_type": "markdown",
     "metadata": {},
     "source": [
      "## A simple and unified API"
     ]
    },
    {
     "cell_type": "markdown",
     "metadata": {},
     "source": [
      "## Integration in the scientific Python ecosystem\n",
      "\n",
      "- The Python ecosystem provides __a standalone, versatile and powerful scientific working environment__, including:\n",
      "     - [NumPy](http://numpy.org) (for efficient manipulation of multi-dimensional arrays);\n",
      "     - [SciPy](http://scipy.org) (for specialized data structures (e.g., sparse matrices) and lower-level scientific algorithms), \n",
      "     - [IPython](http://ipython.org) (for interactive exploration),\n",
      "     - [Matplotlib](http://matplotlib.org) (for vizualization) \n",
      "     - [Pandas](http://pandas.pydata.org/) (for data management and data analysis) \n",
      "- Scikit-Learn builds upon NumPy and SciPy and __complements__ this scientific environment with machine learning algorithms routines;\n",
      "- By design, it is non-intrusive, easy to use and easy to combine with other libraries.\n"
     ]
    },
    {
     "cell_type": "markdown",
     "metadata": {},
     "source": [
      "## End-to-end proof of concept\n",
      "\n",
      "Let us illustrate the use of the various components of the scientific Python ecosystem for the analysis of biological data."
     ]
    },
    {
     "cell_type": "raw",
     "metadata": {},
     "source": [
      "Plan\n",
      "----\n",
      "1. Chargement des donn\u00e9es avec Pandas? Conversion vers Numpy\n",
      "=> Souligner l'interop\u00e9rabilit\u00e9 de Scikit-Learn qui exploite des tableaux Numpy comme type de base\n",
      "2. Visualisation des donn\u00e9es (matplotlib)\n",
      "3. Tache d'apprentissage (foret) distribu\u00e9e et cross-valid\u00e9e avec IPython\n",
      "=> Souligner l'interface simple de scikit-learn (estimator, fit, predict)\n",
      "4. Analyse des importances + visualisation avec matplotlib\n",
      "\n",
      "Use GWAS data\n",
      "http://www.biomedcentral.com/content/pdf/1753-6561-3-S7-S2.pdf\n",
      "\n",
      "0) All of this would happen in live, in an IPython notebook. \n",
      "[Message = Ipython is a fantastic exploration tool, providing to Python a R-like or Matlab-like interactive shell]\n",
      "1) Load the data, either using Pandas or Numpy directly. \n",
      "[Message = Introduce Numpy arrays, explain it is a common data structures of many scientific packages, including scikit-learn. Having a common structure improves interoperability between packages.]\n",
      "2) Take a look at the data, by plotting the 2 main components of a PCA, using Matplotlib \n",
      "[Message =  Matplotlib extends the scientific ecosystem with visualization tools, btw nicely integrated with IPython]\n",
      "3) Risk prediction on data, using a forest learned in parallel with IPython.\n",
      "[Message = Scikit-Learn comes with a host of ML algorithms ; Exploit parallel architectures]\n",
      "4) Switch to another estimator\n",
      "[Message = Common interface between all estimators, which allows an easy exploration of many algorithms.]\n",
      "5) Study variables importances and visualize them"
     ]
    }
   ],
   "metadata": {}
  }
 ]
}
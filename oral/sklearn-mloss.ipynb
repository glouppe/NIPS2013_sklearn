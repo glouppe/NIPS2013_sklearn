{
 "metadata": {
  "css": [
   ""
  ],
  "name": ""
 },
 "nbformat": 3,
 "nbformat_minor": 0,
 "worksheets": [
  {
   "cells": [
    {
     "cell_type": "markdown",
     "metadata": {},
     "source": [
      "# Scikit-Learn: Machine Learning in the Python ecosystem\n",
      "\n",
      "Lorem ipsum dolor sit amet, consectetur adipiscing elit. Vivamus blandit lectus in erat aliquet, ac venenatis neque mollis. Sed varius elementum porta. Aenean at enim hendrerit, volutpat velit nec, imperdiet velit. Phasellus imperdiet, risus at rutrum sollicitudin, felis lorem convallis ligula, nec molestie urna velit nec velit. Ut hendrerit pulvinar dolor, at suscipit metus lobortis nec. Fusce dapibus iaculis dui, condimentum consequat nulla. Aliquam erat volutpat.\n",
      "\n",
      "Praesent ut elementum justo. Phasellus ornare, nunc hendrerit pretium congue, sapien lectus mattis urna, sed interdum lectus erat eget metus. Integer tristique tristique orci. Praesent volutpat, quam ac porttitor tincidunt, nibh eros suscipit nunc, vitae iaculis mauris arcu nec orci. Interdum et malesuada fames ac ante ipsum primis in faucibus. Nulla laoreet facilisis ante vitae tempor. Integer a luctus velit. Nulla ante turpis, gravida vitae laoreet at, sollicitudin nec quam. Donec at porta ligula. Suspendisse consequat vulputate enim luctus consequat. Maecenas sed commodo lacus. Integer vestibulum ac augue sed ultricies. Phasellus dignissim libero nisl, at imperdiet lorem aliquet at. Class aptent taciti sociosqu ad litora torquent per conubia nostra, per inceptos himenaeos. Praesent congue vel magna eget vestibulum."
     ]
    },
    {
     "cell_type": "code",
     "collapsed": false,
     "input": [],
     "language": "python",
     "metadata": {},
     "outputs": []
    }
   ],
   "metadata": {}
  }
 ]
}